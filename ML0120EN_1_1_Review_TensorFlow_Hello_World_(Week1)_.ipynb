{
  "cells": [
    {
      "cell_type": "markdown",
      "metadata": {
        "id": "mTSZlaUSStyZ"
      },
      "source": [
        "<a href=\"https://www.skills.network/?utm_medium=Exinfluencer&utm_source=Exinfluencer&utm_content=000026UJ&utm_term=10006555&utm_id=NA-SkillsNetwork-Channel-SkillsNetworkCoursesIBMDeveloperSkillsNetworkDL0120ENSkillsNetwork20629446-2021-01-01\"><img src=\"https://cf-courses-data.s3.us.cloud-object-storage.appdomain.cloud/IBM-DL0120ENedX/labs/Template%20for%20Instructional%20Hands-on%20Labs/images/IDSNlogo.png\" width=\"400px\" align=\"center\"></a>\n",
        "\n",
        "<h1 align=\"center\"><font size=\"5\">TENSORFLOW'S HELLO WORLD</font></h1>\n"
      ]
    },
    {
      "cell_type": "markdown",
      "metadata": {
        "id": "9QTAgJFnSty7"
      },
      "source": [
        "<h2>TENSORFLOW'S HELLO WORLD</h2>\n",
        "Estimated time needed: <b>15</b> minutes\n",
        "\n",
        "<h3>Objective for this Notebook<h3>    \n",
        "<h5> 1. How does TensorFlow work?</h5>\n",
        "<h5> 2. Building a Graph. </h5>\n",
        "<h5> 3. Meaning of Tensor? </h5>\n",
        "<h5> 4. Defining multidimensional arrays using TensorFlow. </h5>\n",
        "<h5> 5. How TensorFlow handles Variables. </h5>\n",
        "<h5> 6. What are these Placeholders and what do they do? </h5>\n",
        "<h5> 7. Learn Operations using TensorFlow. </h5>     \n"
      ]
    },
    {
      "cell_type": "markdown",
      "metadata": {
        "id": "oN_qs_D0StzI"
      },
      "source": [
        "<div class=\"alert alert-block alert-info\" style=\"margin-top: 20px\">\n",
        "<font size = 3><strong>In this notebook we will overview the basics of TensorFlow, learn it's structure and see what is the motivation to use it</strong></font>\n",
        "<br>\n",
        "<h2>Table of Contents</h2>\n",
        "<ol>\n",
        "    <li><a href=\"https://#ref2\">How does TensorFlow work?</a></li>\n",
        "    <li><a href=\"https://#ref3\">tf.function and AutoGraph</a></li>\n",
        "    <li><a href=\"https://#ref4\">Defining multidimensional arrays using TensorFlow</a></li>\n",
        "    <li><a href=\"https://#ref5\">Why Tensors?</a></li>\n",
        "    <li><a href=\"https://#ref6\">Variables</a></li>\n",
        "    <li><a href=\"https://#ref7\">Operations</a></li>\n",
        "</ol>\n",
        "<p></p>\n",
        "</div>\n",
        "<br>\n",
        "\n",
        "<hr>\n"
      ]
    },
    {
      "cell_type": "markdown",
      "metadata": {
        "id": "y6x4H8d0StzK"
      },
      "source": [
        "<a id=\"ref2\"></a>\n",
        "\n",
        "<h2>How does TensorFlow work?</h2>\n",
        "\n",
        "TensorFlow defines computations as Graphs, and these are made with operations (also know as “ops”). So, when we work with TensorFlow, it is the same as defining a series of operations in a Graph.\n",
        "\n",
        "For example, the image below represents a graph in TensorFlow. *W*, *x* and *b* are tensors over the edges of this graph. *MatMul* is an operation over the tensors *W* and *b*, after that *Add* is called and add the result of the previous operator with *b*. The resultant tensors of each operation cross the next one until the end where it's possible to get the wanted result.\n"
      ]
    },
    {
      "cell_type": "markdown",
      "metadata": {
        "id": "LbJzWq6yStzX"
      },
      "source": [
        "<img src='https://ibm.box.com/shared/static/a94cgezzwbkrq02jzfjjljrcaozu5s2q.png'>\n"
      ]
    },
    {
      "cell_type": "markdown",
      "metadata": {
        "id": "Y5myyYLdStzZ"
      },
      "source": [
        "With TensorFlow 2.x, **Eager Execution** is enabled by default. This allows TensorFlow code to be executed and evaluated line by line. Before version 2.x was released, every graph had to be run wihthin a TensorFlow session. This only allowed for the entire graph to be run all at once. This would make debugging the computation graph each time more difficult.\n"
      ]
    },
    {
      "cell_type": "markdown",
      "metadata": {
        "id": "1ULuC5J-Stzb"
      },
      "source": [
        "<h2>Installing TensorFlow </h2>\n",
        "\n",
        "We begin by installing TensorFlow version 2.2.0 and its required prerequistes.\n"
      ]
    },
    {
      "cell_type": "code",
      "execution_count": 1,
      "metadata": {
        "colab": {
          "base_uri": "https://localhost:8080/"
        },
        "id": "aSV0naCYStz_",
        "outputId": "e0452acc-87f0-4f6d-a147-d7d5638c2828"
      },
      "outputs": [
        {
          "output_type": "stream",
          "name": "stdout",
          "text": [
            "Collecting grpcio==1.24.3\n",
            "  Downloading grpcio-1.24.3-cp37-cp37m-manylinux2010_x86_64.whl (2.2 MB)\n",
            "\u001b[?25l\r\u001b[K     |▏                               | 10 kB 19.0 MB/s eta 0:00:01\r\u001b[K     |▎                               | 20 kB 25.4 MB/s eta 0:00:01\r\u001b[K     |▌                               | 30 kB 13.9 MB/s eta 0:00:01\r\u001b[K     |▋                               | 40 kB 10.8 MB/s eta 0:00:01\r\u001b[K     |▊                               | 51 kB 6.1 MB/s eta 0:00:01\r\u001b[K     |█                               | 61 kB 7.2 MB/s eta 0:00:01\r\u001b[K     |█                               | 71 kB 7.7 MB/s eta 0:00:01\r\u001b[K     |█▏                              | 81 kB 6.4 MB/s eta 0:00:01\r\u001b[K     |█▍                              | 92 kB 7.0 MB/s eta 0:00:01\r\u001b[K     |█▌                              | 102 kB 7.7 MB/s eta 0:00:01\r\u001b[K     |█▋                              | 112 kB 7.7 MB/s eta 0:00:01\r\u001b[K     |█▉                              | 122 kB 7.7 MB/s eta 0:00:01\r\u001b[K     |██                              | 133 kB 7.7 MB/s eta 0:00:01\r\u001b[K     |██                              | 143 kB 7.7 MB/s eta 0:00:01\r\u001b[K     |██▎                             | 153 kB 7.7 MB/s eta 0:00:01\r\u001b[K     |██▍                             | 163 kB 7.7 MB/s eta 0:00:01\r\u001b[K     |██▌                             | 174 kB 7.7 MB/s eta 0:00:01\r\u001b[K     |██▊                             | 184 kB 7.7 MB/s eta 0:00:01\r\u001b[K     |██▉                             | 194 kB 7.7 MB/s eta 0:00:01\r\u001b[K     |███                             | 204 kB 7.7 MB/s eta 0:00:01\r\u001b[K     |███▏                            | 215 kB 7.7 MB/s eta 0:00:01\r\u001b[K     |███▎                            | 225 kB 7.7 MB/s eta 0:00:01\r\u001b[K     |███▍                            | 235 kB 7.7 MB/s eta 0:00:01\r\u001b[K     |███▋                            | 245 kB 7.7 MB/s eta 0:00:01\r\u001b[K     |███▊                            | 256 kB 7.7 MB/s eta 0:00:01\r\u001b[K     |███▉                            | 266 kB 7.7 MB/s eta 0:00:01\r\u001b[K     |████                            | 276 kB 7.7 MB/s eta 0:00:01\r\u001b[K     |████▏                           | 286 kB 7.7 MB/s eta 0:00:01\r\u001b[K     |████▎                           | 296 kB 7.7 MB/s eta 0:00:01\r\u001b[K     |████▌                           | 307 kB 7.7 MB/s eta 0:00:01\r\u001b[K     |████▋                           | 317 kB 7.7 MB/s eta 0:00:01\r\u001b[K     |████▊                           | 327 kB 7.7 MB/s eta 0:00:01\r\u001b[K     |█████                           | 337 kB 7.7 MB/s eta 0:00:01\r\u001b[K     |█████                           | 348 kB 7.7 MB/s eta 0:00:01\r\u001b[K     |█████▏                          | 358 kB 7.7 MB/s eta 0:00:01\r\u001b[K     |█████▍                          | 368 kB 7.7 MB/s eta 0:00:01\r\u001b[K     |█████▌                          | 378 kB 7.7 MB/s eta 0:00:01\r\u001b[K     |█████▋                          | 389 kB 7.7 MB/s eta 0:00:01\r\u001b[K     |█████▉                          | 399 kB 7.7 MB/s eta 0:00:01\r\u001b[K     |██████                          | 409 kB 7.7 MB/s eta 0:00:01\r\u001b[K     |██████                          | 419 kB 7.7 MB/s eta 0:00:01\r\u001b[K     |██████▎                         | 430 kB 7.7 MB/s eta 0:00:01\r\u001b[K     |██████▍                         | 440 kB 7.7 MB/s eta 0:00:01\r\u001b[K     |██████▌                         | 450 kB 7.7 MB/s eta 0:00:01\r\u001b[K     |██████▊                         | 460 kB 7.7 MB/s eta 0:00:01\r\u001b[K     |██████▉                         | 471 kB 7.7 MB/s eta 0:00:01\r\u001b[K     |███████                         | 481 kB 7.7 MB/s eta 0:00:01\r\u001b[K     |███████▏                        | 491 kB 7.7 MB/s eta 0:00:01\r\u001b[K     |███████▎                        | 501 kB 7.7 MB/s eta 0:00:01\r\u001b[K     |███████▍                        | 512 kB 7.7 MB/s eta 0:00:01\r\u001b[K     |███████▋                        | 522 kB 7.7 MB/s eta 0:00:01\r\u001b[K     |███████▊                        | 532 kB 7.7 MB/s eta 0:00:01\r\u001b[K     |███████▉                        | 542 kB 7.7 MB/s eta 0:00:01\r\u001b[K     |████████                        | 552 kB 7.7 MB/s eta 0:00:01\r\u001b[K     |████████▏                       | 563 kB 7.7 MB/s eta 0:00:01\r\u001b[K     |████████▎                       | 573 kB 7.7 MB/s eta 0:00:01\r\u001b[K     |████████▌                       | 583 kB 7.7 MB/s eta 0:00:01\r\u001b[K     |████████▋                       | 593 kB 7.7 MB/s eta 0:00:01\r\u001b[K     |████████▊                       | 604 kB 7.7 MB/s eta 0:00:01\r\u001b[K     |█████████                       | 614 kB 7.7 MB/s eta 0:00:01\r\u001b[K     |█████████                       | 624 kB 7.7 MB/s eta 0:00:01\r\u001b[K     |█████████▎                      | 634 kB 7.7 MB/s eta 0:00:01\r\u001b[K     |█████████▍                      | 645 kB 7.7 MB/s eta 0:00:01\r\u001b[K     |█████████▌                      | 655 kB 7.7 MB/s eta 0:00:01\r\u001b[K     |█████████▊                      | 665 kB 7.7 MB/s eta 0:00:01\r\u001b[K     |█████████▉                      | 675 kB 7.7 MB/s eta 0:00:01\r\u001b[K     |██████████                      | 686 kB 7.7 MB/s eta 0:00:01\r\u001b[K     |██████████▏                     | 696 kB 7.7 MB/s eta 0:00:01\r\u001b[K     |██████████▎                     | 706 kB 7.7 MB/s eta 0:00:01\r\u001b[K     |██████████▍                     | 716 kB 7.7 MB/s eta 0:00:01\r\u001b[K     |██████████▋                     | 727 kB 7.7 MB/s eta 0:00:01\r\u001b[K     |██████████▊                     | 737 kB 7.7 MB/s eta 0:00:01\r\u001b[K     |██████████▉                     | 747 kB 7.7 MB/s eta 0:00:01\r\u001b[K     |███████████                     | 757 kB 7.7 MB/s eta 0:00:01\r\u001b[K     |███████████▏                    | 768 kB 7.7 MB/s eta 0:00:01\r\u001b[K     |███████████▎                    | 778 kB 7.7 MB/s eta 0:00:01\r\u001b[K     |███████████▌                    | 788 kB 7.7 MB/s eta 0:00:01\r\u001b[K     |███████████▋                    | 798 kB 7.7 MB/s eta 0:00:01\r\u001b[K     |███████████▊                    | 808 kB 7.7 MB/s eta 0:00:01\r\u001b[K     |████████████                    | 819 kB 7.7 MB/s eta 0:00:01\r\u001b[K     |████████████                    | 829 kB 7.7 MB/s eta 0:00:01\r\u001b[K     |████████████▏                   | 839 kB 7.7 MB/s eta 0:00:01\r\u001b[K     |████████████▍                   | 849 kB 7.7 MB/s eta 0:00:01\r\u001b[K     |████████████▌                   | 860 kB 7.7 MB/s eta 0:00:01\r\u001b[K     |████████████▋                   | 870 kB 7.7 MB/s eta 0:00:01\r\u001b[K     |████████████▉                   | 880 kB 7.7 MB/s eta 0:00:01\r\u001b[K     |█████████████                   | 890 kB 7.7 MB/s eta 0:00:01\r\u001b[K     |█████████████                   | 901 kB 7.7 MB/s eta 0:00:01\r\u001b[K     |█████████████▎                  | 911 kB 7.7 MB/s eta 0:00:01\r\u001b[K     |█████████████▍                  | 921 kB 7.7 MB/s eta 0:00:01\r\u001b[K     |█████████████▌                  | 931 kB 7.7 MB/s eta 0:00:01\r\u001b[K     |█████████████▊                  | 942 kB 7.7 MB/s eta 0:00:01\r\u001b[K     |█████████████▉                  | 952 kB 7.7 MB/s eta 0:00:01\r\u001b[K     |██████████████                  | 962 kB 7.7 MB/s eta 0:00:01\r\u001b[K     |██████████████▏                 | 972 kB 7.7 MB/s eta 0:00:01\r\u001b[K     |██████████████▎                 | 983 kB 7.7 MB/s eta 0:00:01\r\u001b[K     |██████████████▍                 | 993 kB 7.7 MB/s eta 0:00:01\r\u001b[K     |██████████████▋                 | 1.0 MB 7.7 MB/s eta 0:00:01\r\u001b[K     |██████████████▊                 | 1.0 MB 7.7 MB/s eta 0:00:01\r\u001b[K     |██████████████▉                 | 1.0 MB 7.7 MB/s eta 0:00:01\r\u001b[K     |███████████████                 | 1.0 MB 7.7 MB/s eta 0:00:01\r\u001b[K     |███████████████▏                | 1.0 MB 7.7 MB/s eta 0:00:01\r\u001b[K     |███████████████▎                | 1.1 MB 7.7 MB/s eta 0:00:01\r\u001b[K     |███████████████▌                | 1.1 MB 7.7 MB/s eta 0:00:01\r\u001b[K     |███████████████▋                | 1.1 MB 7.7 MB/s eta 0:00:01\r\u001b[K     |███████████████▊                | 1.1 MB 7.7 MB/s eta 0:00:01\r\u001b[K     |████████████████                | 1.1 MB 7.7 MB/s eta 0:00:01\r\u001b[K     |████████████████                | 1.1 MB 7.7 MB/s eta 0:00:01\r\u001b[K     |████████████████▏               | 1.1 MB 7.7 MB/s eta 0:00:01\r\u001b[K     |████████████████▍               | 1.1 MB 7.7 MB/s eta 0:00:01\r\u001b[K     |████████████████▌               | 1.1 MB 7.7 MB/s eta 0:00:01\r\u001b[K     |████████████████▋               | 1.1 MB 7.7 MB/s eta 0:00:01\r\u001b[K     |████████████████▉               | 1.2 MB 7.7 MB/s eta 0:00:01\r\u001b[K     |█████████████████               | 1.2 MB 7.7 MB/s eta 0:00:01\r\u001b[K     |█████████████████               | 1.2 MB 7.7 MB/s eta 0:00:01\r\u001b[K     |█████████████████▎              | 1.2 MB 7.7 MB/s eta 0:00:01\r\u001b[K     |█████████████████▍              | 1.2 MB 7.7 MB/s eta 0:00:01\r\u001b[K     |█████████████████▌              | 1.2 MB 7.7 MB/s eta 0:00:01\r\u001b[K     |█████████████████▊              | 1.2 MB 7.7 MB/s eta 0:00:01\r\u001b[K     |█████████████████▉              | 1.2 MB 7.7 MB/s eta 0:00:01\r\u001b[K     |██████████████████              | 1.2 MB 7.7 MB/s eta 0:00:01\r\u001b[K     |██████████████████▏             | 1.2 MB 7.7 MB/s eta 0:00:01\r\u001b[K     |██████████████████▎             | 1.3 MB 7.7 MB/s eta 0:00:01\r\u001b[K     |██████████████████▌             | 1.3 MB 7.7 MB/s eta 0:00:01\r\u001b[K     |██████████████████▋             | 1.3 MB 7.7 MB/s eta 0:00:01\r\u001b[K     |██████████████████▊             | 1.3 MB 7.7 MB/s eta 0:00:01\r\u001b[K     |███████████████████             | 1.3 MB 7.7 MB/s eta 0:00:01\r\u001b[K     |███████████████████             | 1.3 MB 7.7 MB/s eta 0:00:01\r\u001b[K     |███████████████████▏            | 1.3 MB 7.7 MB/s eta 0:00:01\r\u001b[K     |███████████████████▍            | 1.3 MB 7.7 MB/s eta 0:00:01\r\u001b[K     |███████████████████▌            | 1.3 MB 7.7 MB/s eta 0:00:01\r\u001b[K     |███████████████████▋            | 1.4 MB 7.7 MB/s eta 0:00:01\r\u001b[K     |███████████████████▉            | 1.4 MB 7.7 MB/s eta 0:00:01\r\u001b[K     |████████████████████            | 1.4 MB 7.7 MB/s eta 0:00:01\r\u001b[K     |████████████████████            | 1.4 MB 7.7 MB/s eta 0:00:01\r\u001b[K     |████████████████████▎           | 1.4 MB 7.7 MB/s eta 0:00:01\r\u001b[K     |████████████████████▍           | 1.4 MB 7.7 MB/s eta 0:00:01\r\u001b[K     |████████████████████▌           | 1.4 MB 7.7 MB/s eta 0:00:01\r\u001b[K     |████████████████████▊           | 1.4 MB 7.7 MB/s eta 0:00:01\r\u001b[K     |████████████████████▉           | 1.4 MB 7.7 MB/s eta 0:00:01\r\u001b[K     |█████████████████████           | 1.4 MB 7.7 MB/s eta 0:00:01\r\u001b[K     |█████████████████████▏          | 1.5 MB 7.7 MB/s eta 0:00:01\r\u001b[K     |█████████████████████▎          | 1.5 MB 7.7 MB/s eta 0:00:01\r\u001b[K     |█████████████████████▍          | 1.5 MB 7.7 MB/s eta 0:00:01\r\u001b[K     |█████████████████████▋          | 1.5 MB 7.7 MB/s eta 0:00:01\r\u001b[K     |█████████████████████▊          | 1.5 MB 7.7 MB/s eta 0:00:01\r\u001b[K     |█████████████████████▉          | 1.5 MB 7.7 MB/s eta 0:00:01\r\u001b[K     |██████████████████████          | 1.5 MB 7.7 MB/s eta 0:00:01\r\u001b[K     |██████████████████████▏         | 1.5 MB 7.7 MB/s eta 0:00:01\r\u001b[K     |██████████████████████▎         | 1.5 MB 7.7 MB/s eta 0:00:01\r\u001b[K     |██████████████████████▌         | 1.5 MB 7.7 MB/s eta 0:00:01\r\u001b[K     |██████████████████████▋         | 1.6 MB 7.7 MB/s eta 0:00:01\r\u001b[K     |██████████████████████▊         | 1.6 MB 7.7 MB/s eta 0:00:01\r\u001b[K     |███████████████████████         | 1.6 MB 7.7 MB/s eta 0:00:01\r\u001b[K     |███████████████████████         | 1.6 MB 7.7 MB/s eta 0:00:01\r\u001b[K     |███████████████████████▏        | 1.6 MB 7.7 MB/s eta 0:00:01\r\u001b[K     |███████████████████████▍        | 1.6 MB 7.7 MB/s eta 0:00:01\r\u001b[K     |███████████████████████▌        | 1.6 MB 7.7 MB/s eta 0:00:01\r\u001b[K     |███████████████████████▋        | 1.6 MB 7.7 MB/s eta 0:00:01\r\u001b[K     |███████████████████████▉        | 1.6 MB 7.7 MB/s eta 0:00:01\r\u001b[K     |████████████████████████        | 1.6 MB 7.7 MB/s eta 0:00:01\r\u001b[K     |████████████████████████        | 1.7 MB 7.7 MB/s eta 0:00:01\r\u001b[K     |████████████████████████▎       | 1.7 MB 7.7 MB/s eta 0:00:01\r\u001b[K     |████████████████████████▍       | 1.7 MB 7.7 MB/s eta 0:00:01\r\u001b[K     |████████████████████████▌       | 1.7 MB 7.7 MB/s eta 0:00:01\r\u001b[K     |████████████████████████▊       | 1.7 MB 7.7 MB/s eta 0:00:01\r\u001b[K     |████████████████████████▉       | 1.7 MB 7.7 MB/s eta 0:00:01\r\u001b[K     |█████████████████████████       | 1.7 MB 7.7 MB/s eta 0:00:01\r\u001b[K     |█████████████████████████▏      | 1.7 MB 7.7 MB/s eta 0:00:01\r\u001b[K     |█████████████████████████▎      | 1.7 MB 7.7 MB/s eta 0:00:01\r\u001b[K     |█████████████████████████▍      | 1.8 MB 7.7 MB/s eta 0:00:01\r\u001b[K     |█████████████████████████▋      | 1.8 MB 7.7 MB/s eta 0:00:01\r\u001b[K     |█████████████████████████▊      | 1.8 MB 7.7 MB/s eta 0:00:01\r\u001b[K     |█████████████████████████▉      | 1.8 MB 7.7 MB/s eta 0:00:01\r\u001b[K     |██████████████████████████      | 1.8 MB 7.7 MB/s eta 0:00:01\r\u001b[K     |██████████████████████████▏     | 1.8 MB 7.7 MB/s eta 0:00:01\r\u001b[K     |██████████████████████████▎     | 1.8 MB 7.7 MB/s eta 0:00:01\r\u001b[K     |██████████████████████████▌     | 1.8 MB 7.7 MB/s eta 0:00:01\r\u001b[K     |██████████████████████████▋     | 1.8 MB 7.7 MB/s eta 0:00:01\r\u001b[K     |██████████████████████████▊     | 1.8 MB 7.7 MB/s eta 0:00:01\r\u001b[K     |███████████████████████████     | 1.9 MB 7.7 MB/s eta 0:00:01\r\u001b[K     |███████████████████████████     | 1.9 MB 7.7 MB/s eta 0:00:01\r\u001b[K     |███████████████████████████▎    | 1.9 MB 7.7 MB/s eta 0:00:01\r\u001b[K     |███████████████████████████▍    | 1.9 MB 7.7 MB/s eta 0:00:01\r\u001b[K     |███████████████████████████▌    | 1.9 MB 7.7 MB/s eta 0:00:01\r\u001b[K     |███████████████████████████▊    | 1.9 MB 7.7 MB/s eta 0:00:01\r\u001b[K     |███████████████████████████▉    | 1.9 MB 7.7 MB/s eta 0:00:01\r\u001b[K     |████████████████████████████    | 1.9 MB 7.7 MB/s eta 0:00:01\r\u001b[K     |████████████████████████████▏   | 1.9 MB 7.7 MB/s eta 0:00:01\r\u001b[K     |████████████████████████████▎   | 1.9 MB 7.7 MB/s eta 0:00:01\r\u001b[K     |████████████████████████████▍   | 2.0 MB 7.7 MB/s eta 0:00:01\r\u001b[K     |████████████████████████████▋   | 2.0 MB 7.7 MB/s eta 0:00:01\r\u001b[K     |████████████████████████████▊   | 2.0 MB 7.7 MB/s eta 0:00:01\r\u001b[K     |████████████████████████████▉   | 2.0 MB 7.7 MB/s eta 0:00:01\r\u001b[K     |█████████████████████████████   | 2.0 MB 7.7 MB/s eta 0:00:01\r\u001b[K     |█████████████████████████████▏  | 2.0 MB 7.7 MB/s eta 0:00:01\r\u001b[K     |█████████████████████████████▎  | 2.0 MB 7.7 MB/s eta 0:00:01\r\u001b[K     |█████████████████████████████▌  | 2.0 MB 7.7 MB/s eta 0:00:01\r\u001b[K     |█████████████████████████████▋  | 2.0 MB 7.7 MB/s eta 0:00:01\r\u001b[K     |█████████████████████████████▊  | 2.0 MB 7.7 MB/s eta 0:00:01\r\u001b[K     |██████████████████████████████  | 2.1 MB 7.7 MB/s eta 0:00:01\r\u001b[K     |██████████████████████████████  | 2.1 MB 7.7 MB/s eta 0:00:01\r\u001b[K     |██████████████████████████████▏ | 2.1 MB 7.7 MB/s eta 0:00:01\r\u001b[K     |██████████████████████████████▍ | 2.1 MB 7.7 MB/s eta 0:00:01\r\u001b[K     |██████████████████████████████▌ | 2.1 MB 7.7 MB/s eta 0:00:01\r\u001b[K     |██████████████████████████████▋ | 2.1 MB 7.7 MB/s eta 0:00:01\r\u001b[K     |██████████████████████████████▉ | 2.1 MB 7.7 MB/s eta 0:00:01\r\u001b[K     |███████████████████████████████ | 2.1 MB 7.7 MB/s eta 0:00:01\r\u001b[K     |███████████████████████████████ | 2.1 MB 7.7 MB/s eta 0:00:01\r\u001b[K     |███████████████████████████████▎| 2.2 MB 7.7 MB/s eta 0:00:01\r\u001b[K     |███████████████████████████████▍| 2.2 MB 7.7 MB/s eta 0:00:01\r\u001b[K     |███████████████████████████████▌| 2.2 MB 7.7 MB/s eta 0:00:01\r\u001b[K     |███████████████████████████████▊| 2.2 MB 7.7 MB/s eta 0:00:01\r\u001b[K     |███████████████████████████████▉| 2.2 MB 7.7 MB/s eta 0:00:01\r\u001b[K     |████████████████████████████████| 2.2 MB 7.7 MB/s eta 0:00:01\r\u001b[K     |████████████████████████████████| 2.2 MB 7.7 MB/s \n",
            "\u001b[?25hRequirement already satisfied: six>=1.5.2 in /usr/local/lib/python3.7/dist-packages (from grpcio==1.24.3) (1.15.0)\n",
            "Installing collected packages: grpcio\n",
            "  Attempting uninstall: grpcio\n",
            "    Found existing installation: grpcio 1.44.0\n",
            "    Uninstalling grpcio-1.44.0:\n",
            "      Successfully uninstalled grpcio-1.44.0\n",
            "\u001b[31mERROR: pip's dependency resolver does not currently take into account all the packages that are installed. This behaviour is the source of the following dependency conflicts.\n",
            "tensorflow 2.8.0 requires tf-estimator-nightly==2.8.0.dev2021122109, which is not installed.\u001b[0m\n",
            "Successfully installed grpcio-1.24.3\n",
            "Collecting tensorflow==2.2.0\n",
            "  Downloading tensorflow-2.2.0-cp37-cp37m-manylinux2010_x86_64.whl (516.2 MB)\n",
            "\u001b[K     |████████████████████████████████| 516.2 MB 4.1 kB/s \n",
            "\u001b[?25hCollecting tensorboard<2.3.0,>=2.2.0\n",
            "  Downloading tensorboard-2.2.2-py3-none-any.whl (3.0 MB)\n",
            "\u001b[K     |████████████████████████████████| 3.0 MB 53.8 MB/s \n",
            "\u001b[?25hCollecting gast==0.3.3\n",
            "  Downloading gast-0.3.3-py2.py3-none-any.whl (9.7 kB)\n",
            "Requirement already satisfied: scipy==1.4.1 in /usr/local/lib/python3.7/dist-packages (from tensorflow==2.2.0) (1.4.1)\n",
            "Requirement already satisfied: protobuf>=3.8.0 in /usr/local/lib/python3.7/dist-packages (from tensorflow==2.2.0) (3.17.3)\n",
            "Collecting tensorflow-estimator<2.3.0,>=2.2.0\n",
            "  Downloading tensorflow_estimator-2.2.0-py2.py3-none-any.whl (454 kB)\n",
            "\u001b[K     |████████████████████████████████| 454 kB 60.2 MB/s \n",
            "\u001b[?25hRequirement already satisfied: wheel>=0.26 in /usr/local/lib/python3.7/dist-packages (from tensorflow==2.2.0) (0.37.1)\n",
            "Requirement already satisfied: numpy<2.0,>=1.16.0 in /usr/local/lib/python3.7/dist-packages (from tensorflow==2.2.0) (1.21.5)\n",
            "Collecting h5py<2.11.0,>=2.10.0\n",
            "  Downloading h5py-2.10.0-cp37-cp37m-manylinux1_x86_64.whl (2.9 MB)\n",
            "\u001b[K     |████████████████████████████████| 2.9 MB 47.4 MB/s \n",
            "\u001b[?25hRequirement already satisfied: keras-preprocessing>=1.1.0 in /usr/local/lib/python3.7/dist-packages (from tensorflow==2.2.0) (1.1.2)\n",
            "Requirement already satisfied: wrapt>=1.11.1 in /usr/local/lib/python3.7/dist-packages (from tensorflow==2.2.0) (1.14.0)\n",
            "Requirement already satisfied: six>=1.12.0 in /usr/local/lib/python3.7/dist-packages (from tensorflow==2.2.0) (1.15.0)\n",
            "Requirement already satisfied: astunparse==1.6.3 in /usr/local/lib/python3.7/dist-packages (from tensorflow==2.2.0) (1.6.3)\n",
            "Requirement already satisfied: absl-py>=0.7.0 in /usr/local/lib/python3.7/dist-packages (from tensorflow==2.2.0) (1.0.0)\n",
            "Requirement already satisfied: termcolor>=1.1.0 in /usr/local/lib/python3.7/dist-packages (from tensorflow==2.2.0) (1.1.0)\n",
            "Requirement already satisfied: google-pasta>=0.1.8 in /usr/local/lib/python3.7/dist-packages (from tensorflow==2.2.0) (0.2.0)\n",
            "Requirement already satisfied: grpcio>=1.8.6 in /usr/local/lib/python3.7/dist-packages (from tensorflow==2.2.0) (1.24.3)\n",
            "Requirement already satisfied: opt-einsum>=2.3.2 in /usr/local/lib/python3.7/dist-packages (from tensorflow==2.2.0) (3.3.0)\n",
            "Requirement already satisfied: markdown>=2.6.8 in /usr/local/lib/python3.7/dist-packages (from tensorboard<2.3.0,>=2.2.0->tensorflow==2.2.0) (3.3.6)\n",
            "Requirement already satisfied: werkzeug>=0.11.15 in /usr/local/lib/python3.7/dist-packages (from tensorboard<2.3.0,>=2.2.0->tensorflow==2.2.0) (1.0.1)\n",
            "Requirement already satisfied: setuptools>=41.0.0 in /usr/local/lib/python3.7/dist-packages (from tensorboard<2.3.0,>=2.2.0->tensorflow==2.2.0) (57.4.0)\n",
            "Requirement already satisfied: requests<3,>=2.21.0 in /usr/local/lib/python3.7/dist-packages (from tensorboard<2.3.0,>=2.2.0->tensorflow==2.2.0) (2.23.0)\n",
            "Requirement already satisfied: google-auth<2,>=1.6.3 in /usr/local/lib/python3.7/dist-packages (from tensorboard<2.3.0,>=2.2.0->tensorflow==2.2.0) (1.35.0)\n",
            "Requirement already satisfied: google-auth-oauthlib<0.5,>=0.4.1 in /usr/local/lib/python3.7/dist-packages (from tensorboard<2.3.0,>=2.2.0->tensorflow==2.2.0) (0.4.6)\n",
            "Requirement already satisfied: tensorboard-plugin-wit>=1.6.0 in /usr/local/lib/python3.7/dist-packages (from tensorboard<2.3.0,>=2.2.0->tensorflow==2.2.0) (1.8.1)\n",
            "Requirement already satisfied: cachetools<5.0,>=2.0.0 in /usr/local/lib/python3.7/dist-packages (from google-auth<2,>=1.6.3->tensorboard<2.3.0,>=2.2.0->tensorflow==2.2.0) (4.2.4)\n",
            "Requirement already satisfied: rsa<5,>=3.1.4 in /usr/local/lib/python3.7/dist-packages (from google-auth<2,>=1.6.3->tensorboard<2.3.0,>=2.2.0->tensorflow==2.2.0) (4.8)\n",
            "Requirement already satisfied: pyasn1-modules>=0.2.1 in /usr/local/lib/python3.7/dist-packages (from google-auth<2,>=1.6.3->tensorboard<2.3.0,>=2.2.0->tensorflow==2.2.0) (0.2.8)\n",
            "Requirement already satisfied: requests-oauthlib>=0.7.0 in /usr/local/lib/python3.7/dist-packages (from google-auth-oauthlib<0.5,>=0.4.1->tensorboard<2.3.0,>=2.2.0->tensorflow==2.2.0) (1.3.1)\n",
            "Requirement already satisfied: importlib-metadata>=4.4 in /usr/local/lib/python3.7/dist-packages (from markdown>=2.6.8->tensorboard<2.3.0,>=2.2.0->tensorflow==2.2.0) (4.11.3)\n",
            "Requirement already satisfied: typing-extensions>=3.6.4 in /usr/local/lib/python3.7/dist-packages (from importlib-metadata>=4.4->markdown>=2.6.8->tensorboard<2.3.0,>=2.2.0->tensorflow==2.2.0) (4.1.1)\n",
            "Requirement already satisfied: zipp>=0.5 in /usr/local/lib/python3.7/dist-packages (from importlib-metadata>=4.4->markdown>=2.6.8->tensorboard<2.3.0,>=2.2.0->tensorflow==2.2.0) (3.8.0)\n",
            "Requirement already satisfied: pyasn1<0.5.0,>=0.4.6 in /usr/local/lib/python3.7/dist-packages (from pyasn1-modules>=0.2.1->google-auth<2,>=1.6.3->tensorboard<2.3.0,>=2.2.0->tensorflow==2.2.0) (0.4.8)\n",
            "Requirement already satisfied: idna<3,>=2.5 in /usr/local/lib/python3.7/dist-packages (from requests<3,>=2.21.0->tensorboard<2.3.0,>=2.2.0->tensorflow==2.2.0) (2.10)\n",
            "Requirement already satisfied: certifi>=2017.4.17 in /usr/local/lib/python3.7/dist-packages (from requests<3,>=2.21.0->tensorboard<2.3.0,>=2.2.0->tensorflow==2.2.0) (2021.10.8)\n",
            "Requirement already satisfied: chardet<4,>=3.0.2 in /usr/local/lib/python3.7/dist-packages (from requests<3,>=2.21.0->tensorboard<2.3.0,>=2.2.0->tensorflow==2.2.0) (3.0.4)\n",
            "Requirement already satisfied: urllib3!=1.25.0,!=1.25.1,<1.26,>=1.21.1 in /usr/local/lib/python3.7/dist-packages (from requests<3,>=2.21.0->tensorboard<2.3.0,>=2.2.0->tensorflow==2.2.0) (1.24.3)\n",
            "Requirement already satisfied: oauthlib>=3.0.0 in /usr/local/lib/python3.7/dist-packages (from requests-oauthlib>=0.7.0->google-auth-oauthlib<0.5,>=0.4.1->tensorboard<2.3.0,>=2.2.0->tensorflow==2.2.0) (3.2.0)\n",
            "Installing collected packages: tensorflow-estimator, tensorboard, h5py, gast, tensorflow\n",
            "  Attempting uninstall: tensorflow-estimator\n",
            "    Found existing installation: tensorflow-estimator 2.8.0\n",
            "    Uninstalling tensorflow-estimator-2.8.0:\n",
            "      Successfully uninstalled tensorflow-estimator-2.8.0\n",
            "  Attempting uninstall: tensorboard\n",
            "    Found existing installation: tensorboard 2.8.0\n",
            "    Uninstalling tensorboard-2.8.0:\n",
            "      Successfully uninstalled tensorboard-2.8.0\n",
            "  Attempting uninstall: h5py\n",
            "    Found existing installation: h5py 3.1.0\n",
            "    Uninstalling h5py-3.1.0:\n",
            "      Successfully uninstalled h5py-3.1.0\n",
            "  Attempting uninstall: gast\n",
            "    Found existing installation: gast 0.5.3\n",
            "    Uninstalling gast-0.5.3:\n",
            "      Successfully uninstalled gast-0.5.3\n",
            "  Attempting uninstall: tensorflow\n",
            "    Found existing installation: tensorflow 2.8.0\n",
            "    Uninstalling tensorflow-2.8.0:\n",
            "      Successfully uninstalled tensorflow-2.8.0\n",
            "Successfully installed gast-0.3.3 h5py-2.10.0 tensorboard-2.2.2 tensorflow-2.2.0 tensorflow-estimator-2.2.0\n"
          ]
        }
      ],
      "source": [
        "!pip install grpcio==1.24.3\n",
        "!pip install tensorflow==2.2.0"
      ]
    },
    {
      "cell_type": "markdown",
      "metadata": {
        "id": "yjZp4qB7St0O"
      },
      "source": [
        "**Restart kernel for latest version of TensorFlow to be activated, then continue to the next section.**\n"
      ]
    },
    {
      "cell_type": "markdown",
      "metadata": {
        "id": "8HQK4YlUSt0Q"
      },
      "source": [
        "<h2>Importing TensorFlow</h2>\n",
        "<p>To use TensorFlow, we need to import the library. We imported it and optionally gave it the name \"tf\", so the modules can be accessed by <b>tf.module-name</b>:</p>\n"
      ]
    },
    {
      "cell_type": "code",
      "execution_count": 2,
      "metadata": {
        "id": "zcu-vx2wSt0T"
      },
      "outputs": [],
      "source": [
        "import tensorflow as tf\n",
        "if not tf.__version__ == '2.2.0':\n",
        "    print(tf.__version__)\n",
        "    raise ValueError('please upgrade to TensorFlow 2.2.0, or restart your Kernel (Kernel->Restart & Clear Output)')"
      ]
    },
    {
      "cell_type": "markdown",
      "metadata": {
        "id": "7GaHh-UKSt0U"
      },
      "source": [
        "IMPORTANT! => Please restart the kernel by clicking on \"Kernel\" -> \"Restart and Clear Outout\" and wait until all output disapears. Then your changes will be picked up.\n",
        "\n",
        "After you have restarted the kernel, re-run the previous cell to import tensorflow and then continue to the next section.\n"
      ]
    },
    {
      "cell_type": "markdown",
      "metadata": {
        "id": "Vr-0mKKeSt0X"
      },
      "source": [
        "***\n"
      ]
    },
    {
      "cell_type": "markdown",
      "metadata": {
        "id": "cPBEnPy3St0Y"
      },
      "source": [
        "<a id=\"ref3\"></a>\n",
        "\n",
        "# tf.function and AutoGraph\n"
      ]
    },
    {
      "cell_type": "markdown",
      "metadata": {
        "id": "SN_pirwJSt0Z"
      },
      "source": [
        "Now we call the TensorFlow functions that construct new <b>tf.Operation</b> and <b>tf.Tensor</b> objects. As mentioned, each <b>tf.Operation</b> is a <b>node</b> and each <b>tf.Tensor</b> is an edge in the graph.\n",
        "\n",
        "Lets add 2 constants to our graph. For example, calling tf.constant(\\[2], name = 'constant_a') adds a single <b>tf.Operation</b> to the default graph. This operation produces the value 2, and returns a <b>tf.Tensor</b> that represents the value of the constant.\\ <b>Notice:</b> tf.constant(\\[2], name=\"constant_a\") creates a new tf.Operation named \"constant_a\" and returns a tf.Tensor named \"constant_a:0\".\n"
      ]
    },
    {
      "cell_type": "code",
      "execution_count": 3,
      "metadata": {
        "id": "3HzNv4wZSt0a"
      },
      "outputs": [],
      "source": [
        "a = tf.constant([2], name = 'constant_a')\n",
        "b = tf.constant([3], name = 'constant_b')"
      ]
    },
    {
      "cell_type": "markdown",
      "metadata": {
        "id": "hWBZrDq6St0b"
      },
      "source": [
        "Lets look at the tensor **a**.\n"
      ]
    },
    {
      "cell_type": "code",
      "execution_count": 4,
      "metadata": {
        "colab": {
          "base_uri": "https://localhost:8080/"
        },
        "id": "ivSLYvOESt0c",
        "outputId": "20184d3a-c6ab-48a9-9563-d747c8ca3527"
      },
      "outputs": [
        {
          "output_type": "execute_result",
          "data": {
            "text/plain": [
              "<tf.Tensor: shape=(1,), dtype=int32, numpy=array([2], dtype=int32)>"
            ]
          },
          "metadata": {},
          "execution_count": 4
        }
      ],
      "source": [
        "a "
      ]
    },
    {
      "cell_type": "markdown",
      "metadata": {
        "id": "MDZS2bl_St0d"
      },
      "source": [
        "As you can see, it just shows the name, shape and type of the tensor in the graph. We will see it's value by running the TensorFlow code as shown below.\n"
      ]
    },
    {
      "cell_type": "code",
      "execution_count": 5,
      "metadata": {
        "colab": {
          "base_uri": "https://localhost:8080/"
        },
        "id": "Nmc4R_iaSt0e",
        "outputId": "4687af61-0bd9-492b-d078-ececf0e3efba"
      },
      "outputs": [
        {
          "output_type": "stream",
          "name": "stdout",
          "text": [
            "2\n"
          ]
        }
      ],
      "source": [
        "tf.print(a.numpy()[0])"
      ]
    },
    {
      "cell_type": "markdown",
      "metadata": {
        "id": "Mpha32mDSt0e"
      },
      "source": [
        "Annotating the python functions with **tf.function** uses TensorFlow Autograph to create a TensorFlow static execution graph for the function.   tf.function annotation tells TensorFlow Autograph to transform function *add* into TensorFlow control flow, which then defines the TensorFlow static execution graph.\n"
      ]
    },
    {
      "cell_type": "code",
      "execution_count": 6,
      "metadata": {
        "id": "L1rCkStcSt0f"
      },
      "outputs": [],
      "source": [
        "@tf.function\n",
        "def add(a,b):\n",
        "    c = tf.add(a, b)\n",
        "    #c = a + b is also a way to define the sum of the terms\n",
        "    print(c)\n",
        "    return c\n"
      ]
    },
    {
      "cell_type": "code",
      "execution_count": 7,
      "metadata": {
        "colab": {
          "base_uri": "https://localhost:8080/"
        },
        "id": "WA3kP6h-St0g",
        "outputId": "a35ec047-6c0e-4f38-8573-3c8fffcb154c"
      },
      "outputs": [
        {
          "output_type": "stream",
          "name": "stdout",
          "text": [
            "Tensor(\"Add:0\", shape=(1,), dtype=int32)\n",
            "5\n"
          ]
        }
      ],
      "source": [
        "result = add(a,b)\n",
        "tf.print(result[0])"
      ]
    },
    {
      "cell_type": "markdown",
      "metadata": {
        "id": "LUOty8HxSt0j"
      },
      "source": [
        "Even this silly example of adding 2 constants to reach a simple result defines the basis of TensorFlow. Define your operations (In this case our constants and *tf.add*), define a Python function named *add* and decorate it with using the *tf.function* annotator.\n"
      ]
    },
    {
      "cell_type": "markdown",
      "metadata": {
        "id": "Tcvgla3qSt0k"
      },
      "source": [
        "<h3>What is the meaning of Tensor?</h3>\n",
        "\n",
        "<div class=\"alert alert-success alertsuccess\" style=\"margin-top: 20px\">\n",
        "<font size = 3><strong>In TensorFlow all data is passed between operations in a computation graph, and these are passed in the form of Tensors, hence the name of TensorFlow.</strong></font>\n",
        "<br>\n",
        "<br>\n",
        "    The word <b>tensor</b> from new latin means \"that which stretches\". It is a mathematical object that is named \"tensor\" because an early application of tensors was the study of materials stretching under tension. The contemporary meaning of tensors can be taken as multidimensional arrays. \n",
        "\n",
        "</div>\n",
        "\n",
        "That's great, but... what are these multidimensional arrays?\n",
        "\n",
        "Going back a little bit to physics to understand the concept of dimensions:<br> <img src=\"https://ibm.box.com/shared/static/ymn0hl3hf8s3xb4k15v22y5vmuodnue1.svg\"/>\n",
        "\n",
        "<div style=\"text-align:center\"><a href=\"https://en.wikipedia.org/wiki/Dimension?utm_medium=Exinfluencer&utm_source=Exinfluencer&utm_content=000026UJ&utm_term=10006555&utm_id=NA-SkillsNetwork-Channel-SkillsNetworkCoursesIBMDeveloperSkillsNetworkDL0120ENSkillsNetwork20629446-2021-01-01\">Image Source</a></div>\n",
        "<br>\n",
        "\n",
        "The zero dimension can be seen as a point, a single object or a single item.\n",
        "\n",
        "The first dimension can be seen as a line, a one-dimensional array can be seen as numbers along this line, or as points along the line. One dimension can contain infinite zero dimension/points elements.\n",
        "\n",
        "The second dimension can be seen as a surface, a two-dimensional array can be seen as an infinite series of lines along an infinite line.\n",
        "\n",
        "The third dimension can be seen as volume, a three-dimensional array can be seen as an infinite series of surfaces along an infinite line.\n",
        "\n",
        "The Fourth dimension can be seen as the hyperspace or spacetime, a volume varying through time, or an infinite series of volumes along an infinite line. And so forth on...\n"
      ]
    },
    {
      "cell_type": "markdown",
      "metadata": {
        "id": "SjIJxe3nSt0l"
      },
      "source": [
        "As mathematical objects: <br><br> <img src=\"https://ibm.box.com/shared/static/kmxz570uai8eeg6i6ynqdz6kmlx1m422.png\">\n",
        "\n",
        "<div style=\"text-align: center\"><a href=\"https://book.mql4.com/variables/arrays?utm_medium=Exinfluencer&utm_source=Exinfluencer&utm_content=000026UJ&utm_term=10006555&utm_id=NA-SkillsNetwork-Channel-SkillsNetworkCoursesIBMDeveloperSkillsNetworkDL0120ENSkillsNetwork20629446-2021-01-01\">Image Source</a></div>\n"
      ]
    },
    {
      "cell_type": "markdown",
      "metadata": {
        "id": "TFz4XEuCSt0m"
      },
      "source": [
        "Summarizing:<br><br>\n",
        "\n",
        "<table style=\"width:100%\">\n",
        "  <tr>\n",
        "    <td><b>Dimension</b></td>\n",
        "    <td><b>Physical Representation</b></td> \n",
        "    <td><b>Mathematical Object</b></td>\n",
        "    <td><b>In Code</b></td>\n",
        "  </tr>\n",
        "\n",
        "  <tr>\n",
        "    <td>Zero </td>\n",
        "    <td>Point</td> \n",
        "    <td>Scalar (Single Number)</td>\n",
        "    <td>[ 1 ]</td>\n",
        "  </tr>\n",
        "\n",
        "  <tr>\n",
        "    <td>One</td>\n",
        "    <td>Line</td> \n",
        "    <td>Vector (Series of Numbers) </td>\n",
        "    <td>[ 1,2,3,4,... ]</td>\n",
        "  </tr>\n",
        "\n",
        "   <tr>\n",
        "    <td>Two</td>\n",
        "    <td>Surface</td> \n",
        "    <td>Matrix (Table of Numbers)</td>\n",
        "       <td>[ [1,2,3,4,...], [1,2,3,4,...], [1,2,3,4,...],... ]</td>\n",
        "  </tr>\n",
        "\n",
        "   <tr>\n",
        "    <td>Three</td>\n",
        "    <td>Volume</td> \n",
        "    <td>Tensor (Cube of Numbers)</td>\n",
        "    <td>[ [[1,2,...], [1,2,...], [1,2,...],...], [[1,2,...], [1,2,...], [1,2,...],...], [[1,2,...], [1,2,...], [1,2,...] ,...]... ]</td>\n",
        "  </tr>\n",
        "\n",
        "</table>\n"
      ]
    },
    {
      "cell_type": "markdown",
      "metadata": {
        "id": "23a9wkNHSt0m"
      },
      "source": [
        "***\n"
      ]
    },
    {
      "cell_type": "markdown",
      "metadata": {
        "id": "8xFqCpz6St0n"
      },
      "source": [
        "<a id=\"ref4\"></a>\n",
        "\n",
        "<h2>Defining multidimensional arrays using TensorFlow</h2>\n",
        "Now we will try to define such arrays using TensorFlow:\n"
      ]
    },
    {
      "cell_type": "code",
      "execution_count": 8,
      "metadata": {
        "colab": {
          "base_uri": "https://localhost:8080/"
        },
        "id": "sJKyCZa9St0n",
        "outputId": "c7f1b3ad-fd2a-4619-e485-ccaf5708ce2c"
      },
      "outputs": [
        {
          "output_type": "stream",
          "name": "stdout",
          "text": [
            "Scalar (1 entry):\n",
            " tf.Tensor(2, shape=(), dtype=int32) \n",
            "\n",
            "Vector (3 entries) :\n",
            " tf.Tensor([5 6 2], shape=(3,), dtype=int32) \n",
            "\n",
            "Matrix (3x3 entries):\n",
            " tf.Tensor(\n",
            "[[1 2 3]\n",
            " [2 3 4]\n",
            " [3 4 5]], shape=(3, 3), dtype=int32) \n",
            "\n",
            "Tensor (3x3x3 entries) :\n",
            " tf.Tensor(\n",
            "[[[ 1  2  3]\n",
            "  [ 2  3  4]\n",
            "  [ 3  4  5]]\n",
            "\n",
            " [[ 4  5  6]\n",
            "  [ 5  6  7]\n",
            "  [ 6  7  8]]\n",
            "\n",
            " [[ 7  8  9]\n",
            "  [ 8  9 10]\n",
            "  [ 9 10 11]]], shape=(3, 3, 3), dtype=int32) \n",
            "\n"
          ]
        }
      ],
      "source": [
        "\n",
        "Scalar = tf.constant(2)\n",
        "Vector = tf.constant([5,6,2])\n",
        "Matrix = tf.constant([[1,2,3],[2,3,4],[3,4,5]])\n",
        "Tensor = tf.constant( [ [[1,2,3],[2,3,4],[3,4,5]] , [[4,5,6],[5,6,7],[6,7,8]] , [[7,8,9],[8,9,10],[9,10,11]] ] )\n",
        "\n",
        "print (\"Scalar (1 entry):\\n %s \\n\" % Scalar)\n",
        "\n",
        "print (\"Vector (3 entries) :\\n %s \\n\" % Vector)\n",
        "\n",
        "print (\"Matrix (3x3 entries):\\n %s \\n\" % Matrix)\n",
        "\n",
        "print (\"Tensor (3x3x3 entries) :\\n %s \\n\" % Tensor)"
      ]
    },
    {
      "cell_type": "markdown",
      "metadata": {
        "id": "A0MMOC9jSt0o"
      },
      "source": [
        "<b>tf.shape</b> returns the shape of our data structure.\n"
      ]
    },
    {
      "cell_type": "code",
      "execution_count": 9,
      "metadata": {
        "colab": {
          "base_uri": "https://localhost:8080/"
        },
        "id": "KCjnCvsVSt0o",
        "outputId": "7000167a-405f-4e95-8d59-3f30c6293191"
      },
      "outputs": [
        {
          "output_type": "execute_result",
          "data": {
            "text/plain": [
              "TensorShape([])"
            ]
          },
          "metadata": {},
          "execution_count": 9
        }
      ],
      "source": [
        "Scalar.shape"
      ]
    },
    {
      "cell_type": "code",
      "execution_count": 10,
      "metadata": {
        "colab": {
          "base_uri": "https://localhost:8080/"
        },
        "id": "a4Mco53xSt0p",
        "outputId": "a50310e9-8259-4a0a-b3e5-103f1b4a6bd2"
      },
      "outputs": [
        {
          "output_type": "execute_result",
          "data": {
            "text/plain": [
              "TensorShape([3, 3, 3])"
            ]
          },
          "metadata": {},
          "execution_count": 10
        }
      ],
      "source": [
        "Tensor.shape"
      ]
    },
    {
      "cell_type": "markdown",
      "metadata": {
        "id": "qlexsUbdSt0q"
      },
      "source": [
        "Now that you understand these data structures, I encourage you to play with them using some previous functions to see how they will behave, according to their structure types:\n"
      ]
    },
    {
      "cell_type": "code",
      "execution_count": 11,
      "metadata": {
        "colab": {
          "base_uri": "https://localhost:8080/"
        },
        "id": "Z7rvMNMwSt0r",
        "outputId": "897a7cc5-0215-49e8-f4f8-3e005de5ca45"
      },
      "outputs": [
        {
          "output_type": "stream",
          "name": "stdout",
          "text": [
            "Defined using tensorflow function :\n",
            "tf.Tensor(\n",
            "[[3 4 5]\n",
            " [4 5 6]\n",
            " [5 6 7]], shape=(3, 3), dtype=int32)\n",
            "Defined using normal expressions :\n",
            "tf.Tensor(\n",
            "[[3 4 5]\n",
            " [4 5 6]\n",
            " [5 6 7]], shape=(3, 3), dtype=int32)\n"
          ]
        }
      ],
      "source": [
        "\n",
        "Matrix_one = tf.constant([[1,2,3],[2,3,4],[3,4,5]])\n",
        "Matrix_two = tf.constant([[2,2,2],[2,2,2],[2,2,2]])\n",
        "\n",
        "@tf.function\n",
        "def add():\n",
        "    add_1_operation = tf.add(Matrix_one, Matrix_two)\n",
        "    return add_1_operation\n",
        "\n",
        "\n",
        "\n",
        "print (\"Defined using tensorflow function :\")\n",
        "add_1_operation = add()\n",
        "print(add_1_operation)\n",
        "print (\"Defined using normal expressions :\")\n",
        "add_2_operation = Matrix_one + Matrix_two\n",
        "print(add_2_operation)"
      ]
    },
    {
      "cell_type": "markdown",
      "metadata": {
        "id": "79iDtCibSt0r"
      },
      "source": [
        "With the regular symbol definition and also the TensorFlow function we were able to get an element-wise multiplication, also known as Hadamard product. <br>\n",
        "\n",
        "But what if we want the regular matrix product?\n",
        "\n",
        "We then need to use another TensorFlow function called <b>tf.matmul()<b>:\n"
      ]
    },
    {
      "cell_type": "code",
      "execution_count": 12,
      "metadata": {
        "colab": {
          "base_uri": "https://localhost:8080/"
        },
        "id": "gYoCn9IvSt0s",
        "outputId": "2fa383b1-e6df-417c-dd9e-36492d2b103d"
      },
      "outputs": [
        {
          "output_type": "stream",
          "name": "stdout",
          "text": [
            "Defined using tensorflow function :\n",
            "tf.Tensor(\n",
            "[[13 18]\n",
            " [18 25]], shape=(2, 2), dtype=int32)\n"
          ]
        }
      ],
      "source": [
        "\n",
        "Matrix_one = tf.constant([[2,3],[3,4]])\n",
        "Matrix_two = tf.constant([[2,3],[3,4]])\n",
        "\n",
        "@tf.function\n",
        "def mathmul():\n",
        "  return tf.matmul(Matrix_one, Matrix_two)\n",
        "\n",
        "\n",
        "mul_operation = mathmul()\n",
        "\n",
        "print (\"Defined using tensorflow function :\")\n",
        "print(mul_operation)\n",
        "\n"
      ]
    },
    {
      "cell_type": "markdown",
      "metadata": {
        "id": "vZ3HtPxaSt0t"
      },
      "source": [
        "We could also define this multiplication ourselves, but there is a function that already does that, so no need to reinvent the wheel!\n"
      ]
    },
    {
      "cell_type": "markdown",
      "metadata": {
        "id": "y1JAu1blSt0u"
      },
      "source": [
        "***\n"
      ]
    },
    {
      "cell_type": "markdown",
      "metadata": {
        "id": "BvZj3QsjSt0u"
      },
      "source": [
        "<a id=\"ref5\"></a>\n",
        "\n",
        "<h2>Why Tensors?</h2>\n",
        "\n",
        "The Tensor structure helps us by giving the freedom to shape the dataset in the way we want.\n",
        "\n",
        "And it is particularly helpful when dealing with images, due to the nature of how information in images are encoded,\n",
        "\n",
        "Thinking about images, its easy to understand that it has a height and width, so it would make sense to represent the information contained in it with a two dimensional structure (a matrix)... until you remember that images have colors, and to add information about the colors, we need another dimension, and thats when Tensors become particularly helpful.\n",
        "\n",
        "Images are encoded into color channels, the image data is represented into each color intensity in a color channel at a given point, the most common one being RGB, which means Red, Blue and Green. The information contained into an image is the intensity of each channel color into the width and height of the image, just like this:\n",
        "\n",
        "<img src='https://ibm.box.com/shared/static/xlpv9h5xws248c09k1rlx7cer69y4grh.png'>\n",
        "<a href=\"https://msdn.microsoft.com/en-us/library/windows/desktop/dn424131.aspx?utm_medium=Exinfluencer&utm_source=Exinfluencer&utm_content=000026UJ&utm_term=10006555&utm_id=NA-SkillsNetwork-Channel-SkillsNetworkCoursesIBMDeveloperSkillsNetworkDL0120ENSkillsNetwork20629446-2021-01-01\">Image Source</a>\n",
        "\n",
        "So the intensity of the red channel at each point with width and height can be represented into a matrix, the same goes for the blue and green channels, so we end up having three matrices, and when these are combined they form a tensor.\n"
      ]
    },
    {
      "cell_type": "markdown",
      "metadata": {
        "id": "BIB8NOtdSt0u"
      },
      "source": [
        "***\n"
      ]
    },
    {
      "cell_type": "markdown",
      "metadata": {
        "id": "4yh1oMlmSt0v"
      },
      "source": [
        "<a id=\"ref6\"></a>\n",
        "\n",
        "# Variables\n",
        "\n",
        "Now that we are more familiar with the structure of data, we will take a look at how TensorFlow handles variables. <b>First of all, having tensors, why do we need variables?</b>\\\n",
        "TensorFlow variables are used to share and persist some stats that are manipulated by our program. That is, when you define a variable, TensorFlow adds a <b>tf.Operation</b> to your graph. Then, this operation will store a writable tensor value. So, you can update the value of a variable through each run.\n"
      ]
    },
    {
      "cell_type": "markdown",
      "metadata": {
        "id": "Y67f5r1iSt0w"
      },
      "source": [
        "Let's first create a simple counter, by first initializing a variable *v* that will be increased one unit at a time:\n"
      ]
    },
    {
      "cell_type": "code",
      "execution_count": 13,
      "metadata": {
        "id": "377D4X9FSt0w"
      },
      "outputs": [],
      "source": [
        "v = tf.Variable(0)"
      ]
    },
    {
      "cell_type": "markdown",
      "metadata": {
        "id": "FLMspXFNSt0x"
      },
      "source": [
        "We now create a python method *increment_by_one*. This method will internally call *td.add* that takes in two arguments, the <b>reference_variable</b> to update, and assign it to the <b>value_to_update</b> it by.\n"
      ]
    },
    {
      "cell_type": "code",
      "execution_count": 14,
      "metadata": {
        "id": "ewSTqK84St02"
      },
      "outputs": [],
      "source": [
        "@tf.function\n",
        "def increment_by_one(v):\n",
        "        v = tf.add(v,1)\n",
        "        return v"
      ]
    },
    {
      "cell_type": "markdown",
      "metadata": {
        "id": "5k-7XNpdSt03"
      },
      "source": [
        "To update the value of the variable *v*, we simply call the *increment_by_one* method and pass the variable to it. We will invoke this method thrice. This method will increment the variable by one and print the updated value each time.\n"
      ]
    },
    {
      "cell_type": "code",
      "execution_count": 15,
      "metadata": {
        "colab": {
          "base_uri": "https://localhost:8080/"
        },
        "id": "oMJ8DFQQSt03",
        "outputId": "02d45e3a-5259-451c-d8dc-9fd7e4d9db6a"
      },
      "outputs": [
        {
          "output_type": "stream",
          "name": "stdout",
          "text": [
            "tf.Tensor(1, shape=(), dtype=int32)\n",
            "tf.Tensor(2, shape=(), dtype=int32)\n",
            "tf.Tensor(3, shape=(), dtype=int32)\n"
          ]
        }
      ],
      "source": [
        "for i in range(3):\n",
        "    v = increment_by_one(v)\n",
        "    print(v)"
      ]
    },
    {
      "cell_type": "markdown",
      "metadata": {
        "id": "3alFdpj2St04"
      },
      "source": [
        "***\n"
      ]
    },
    {
      "cell_type": "markdown",
      "metadata": {
        "id": "qLmJRQUaSt06"
      },
      "source": [
        "<a id=\"ref7\"></a>\n",
        "\n",
        "<h2>Operations</h2>\n",
        "\n",
        "Operations are nodes that represent the mathematical operations over the tensors on a graph. These operations can be any kind of functions, like add and subtract tensor or maybe an activation function.\n",
        "\n",
        "<b>tf.constant</b>, <b>tf.matmul</b>, <b>tf.add</b>, <b>tf.nn.sigmoid</b> are some of the operations in TensorFlow. These are like functions in python but operate directly over tensors and each one does a specific thing.\n",
        "\n",
        "<div class=\"alert alert-success alertsuccess\" style=\"margin-top: 20px\">Other operations can be easily found in: <a href=\"https://www.tensorflow.org/versions/r0.9/api_docs/python/index.html?utm_medium=Exinfluencer&utm_source=Exinfluencer&utm_content=000026UJ&utm_term=10006555&utm_id=NA-SkillsNetwork-Channel-SkillsNetworkCoursesIBMDeveloperSkillsNetworkDL0120ENSkillsNetwork20629446-2021-01-01\">https://www.tensorflow.org/versions/r0.9/api_docs/python/index.html</a></div>\n"
      ]
    },
    {
      "cell_type": "code",
      "execution_count": 16,
      "metadata": {
        "colab": {
          "base_uri": "https://localhost:8080/"
        },
        "id": "ET7AgMd9St07",
        "outputId": "ea543b4d-8979-470f-e3b8-e8731df4c917"
      },
      "outputs": [
        {
          "output_type": "stream",
          "name": "stdout",
          "text": [
            "c =: tf.Tensor([7], shape=(1,), dtype=int32)\n",
            "d =: tf.Tensor([3], shape=(1,), dtype=int32)\n"
          ]
        }
      ],
      "source": [
        "a = tf.constant([5])\n",
        "b = tf.constant([2])\n",
        "c = tf.add(a,b)\n",
        "d = tf.subtract(a,b)\n",
        "\n",
        "\n",
        "print ('c =: %s' % c)\n",
        "    \n",
        "print ('d =: %s' % d)"
      ]
    },
    {
      "cell_type": "markdown",
      "metadata": {
        "id": "IjFb4oszSt08"
      },
      "source": [
        "<b>tf.nn.sigmoid</b> is an activation function, it's a little more complicated, but this function helps learning models to evaluate what kind of information is good or not.\n"
      ]
    },
    {
      "cell_type": "markdown",
      "metadata": {
        "id": "R_Hu6988St08"
      },
      "source": [
        "***\n"
      ]
    },
    {
      "cell_type": "markdown",
      "metadata": {
        "id": "sW3K1NEQSt09"
      },
      "source": [
        "## Want to learn more?\n",
        "\n",
        "Also, you can use **Watson Studio** to run these notebooks faster with bigger datasets.**Watson Studio** is IBM’s leading cloud solution for data scientists, built by data scientists. With Jupyter notebooks, RStudio, Apache Spark and popular libraries pre-packaged in the cloud, **Watson Studio** enables data scientists to collaborate on their projects without having to install anything. Join the fast-growing community of **Watson Studio** users today with a free account at [Watson Studio](https://cocl.us/ML0120EN_DSX).This is the end of this lesson. Thank you for reading this notebook, and good luck on your studies.\n"
      ]
    },
    {
      "cell_type": "markdown",
      "metadata": {
        "id": "1dJSFoPhSt0-"
      },
      "source": [
        "### Thanks for completing this lesson!\n",
        "\n",
        "Notebook created by: <a href=\"https://linkedin.com/in/romeo-kienzler-089b4557?utm_medium=Exinfluencer&utm_source=Exinfluencer&utm_content=000026UJ&utm_term=10006555&utm_id=NA-SkillsNetwork-Channel-SkillsNetworkCoursesIBMDeveloperSkillsNetworkDL0120ENSkillsNetwork20629446-2021-01-01\"> Romeo Kienzler </a>, <a href=\"https://linkedin.com/in/saeedaghabozorgi?utm_medium=Exinfluencer&utm_source=Exinfluencer&utm_content=000026UJ&utm_term=10006555&utm_id=NA-SkillsNetwork-Channel-SkillsNetworkCoursesIBMDeveloperSkillsNetworkDL0120ENSkillsNetwork20629446-2021-01-01\"> Saeed Aghabozorgi </a> and <a href=\"https://ca.linkedin.com/in/rafaelblsilva?utm_medium=Exinfluencer&utm_source=Exinfluencer&utm_content=000026UJ&utm_term=10006555&utm_id=NA-SkillsNetwork-Channel-SkillsNetworkCoursesIBMDeveloperSkillsNetworkDL0120ENSkillsNetwork20629446-2021-01-01\"> Rafael Belo Da Silva </a>\n",
        "\n",
        "Updated to TF 2.X by  <a href=\"https://www.linkedin.com/in/samaya-madhavan?utm_medium=Exinfluencer&utm_source=Exinfluencer&utm_content=000026UJ&utm_term=10006555&utm_id=NA-SkillsNetwork-Channel-SkillsNetworkCoursesIBMDeveloperSkillsNetworkDL0120ENSkillsNetwork20629446-2021-01-01\"> Samaya Madhavan </a>\n"
      ]
    },
    {
      "cell_type": "markdown",
      "metadata": {
        "id": "UGImE1_ISt1A"
      },
      "source": [
        "### References:\n"
      ]
    },
    {
      "cell_type": "markdown",
      "metadata": {
        "id": "aXko1omdSt1B"
      },
      "source": [
        "## Change Log\n",
        "\n",
        "| Date (YYYY-MM-DD) | Version | Changed By | Change Description                                          |\n",
        "| ----------------- | ------- | ---------- | ----------------------------------------------------------- |\n",
        "| 2020-09-21        | 2.0     | Srishti    | Migrated Lab to Markdown and added to course repo in GitLab |\n",
        "\n",
        "<hr>\n",
        "\n",
        "## <h3 align=\"center\"> © IBM Corporation 2020. All rights reserved. <h3/>\n"
      ]
    },
    {
      "cell_type": "markdown",
      "metadata": {
        "id": "VxdE8tMHSt1B"
      },
      "source": [
        "[https://www.tensorflow.org/versions/r0.9/get_started/index.html](https://www.tensorflow.org/versions/r0.9/get_started/index.html?utm_medium=Exinfluencer&utm_source=Exinfluencer&utm_content=000026UJ&utm_term=10006555&utm_id=NA-SkillsNetwork-Channel-SkillsNetworkCoursesIBMDeveloperSkillsNetworkDL0120ENSkillsNetwork20629446-2021-01-01&cm_mmc=Email_Newsletter-\\_-Developer_Ed%2BTech-\\_-WW_WW-\\_-SkillsNetwork-Courses-IBMDeveloperSkillsNetwork-DL0120EN-SkillsNetwork-20629446&cm_mmca1=000026UJ&cm_mmca2=10006555&cm_mmca3=M12345678&cvosrc=email.Newsletter.M12345678&cvo_campaign=000026UJ)<br>\n",
        "[http://jrmeyer.github.io/tutorial/2016/02/01/TensorFlow-Tutorial.html](http://jrmeyer.github.io/tutorial/2016/02/01/TensorFlow-Tutorial.html?utm_medium=Exinfluencer&utm_source=Exinfluencer&utm_content=000026UJ&utm_term=10006555&utm_id=NA-SkillsNetwork-Channel-SkillsNetworkCoursesIBMDeveloperSkillsNetworkDL0120ENSkillsNetwork20629446-2021-01-01&cm_mmc=Email_Newsletter-\\_-Developer_Ed%2BTech-\\_-WW_WW-\\_-SkillsNetwork-Courses-IBMDeveloperSkillsNetwork-DL0120EN-SkillsNetwork-20629446&cm_mmca1=000026UJ&cm_mmca2=10006555&cm_mmca3=M12345678&cvosrc=email.Newsletter.M12345678&cvo_campaign=000026UJ)<br>\n",
        "[https://www.tensorflow.org/versions/r0.9/api_docs/python/index.html](https://www.tensorflow.org/versions/r0.9/api_docs/python/index.html?utm_medium=Exinfluencer&utm_source=Exinfluencer&utm_content=000026UJ&utm_term=10006555&utm_id=NA-SkillsNetwork-Channel-SkillsNetworkCoursesIBMDeveloperSkillsNetworkDL0120ENSkillsNetwork20629446-2021-01-01&cm_mmc=Email_Newsletter-\\_-Developer_Ed%2BTech-\\_-WW_WW-\\_-SkillsNetwork-Courses-IBMDeveloperSkillsNetwork-DL0120EN-SkillsNetwork-20629446&cm_mmca1=000026UJ&cm_mmca2=10006555&cm_mmca3=M12345678&cvosrc=email.Newsletter.M12345678&cvo_campaign=000026UJ)<br> <a href=\"https://www.tensorflow.org/api_docs/python/?utm_medium=Exinfluencer&utm_source=Exinfluencer&utm_content=000026UJ&utm_term=10006555&utm_id=NA-SkillsNetwork-Channel-SkillsNetworkCoursesIBMDeveloperSkillsNetworkDL0120ENSkillsNetwork20629446-2021-01-01\">[https://www.tensorflow.org/versions/r0.9/resources/dims_types.html](https://www.tensorflow.org/versions/r0.9/resources/dims_types.html?utm_medium=Exinfluencer&utm_source=Exinfluencer&utm_content=000026UJ&utm_term=10006555&utm_id=NA-SkillsNetwork-Channel-SkillsNetworkCoursesIBMDeveloperSkillsNetworkDL0120ENSkillsNetwork20629446-2021-01-01)</a><br>\n",
        "[https://en.wikipedia.org/wiki/Dimension](https://en.wikipedia.org/wiki/Dimension?utm_medium=Exinfluencer&utm_source=Exinfluencer&utm_content=000026UJ&utm_term=10006555&utm_id=NA-SkillsNetwork-Channel-SkillsNetworkCoursesIBMDeveloperSkillsNetworkDL0120ENSkillsNetwork20629446-2021-01-01&cm_mmc=Email_Newsletter-\\_-Developer_Ed%2BTech-\\_-WW_WW-\\_-SkillsNetwork-Courses-IBMDeveloperSkillsNetwork-DL0120EN-SkillsNetwork-20629446&cm_mmca1=000026UJ&cm_mmca2=10006555&cm_mmca3=M12345678&cvosrc=email.Newsletter.M12345678&cvo_campaign=000026UJ)<br>\n",
        "[https://book.mql4.com/variables/arrays](https://book.mql4.com/variables/arrays?utm_medium=Exinfluencer&utm_source=Exinfluencer&utm_content=000026UJ&utm_term=10006555&utm_id=NA-SkillsNetwork-Channel-SkillsNetworkCoursesIBMDeveloperSkillsNetworkDL0120ENSkillsNetwork20629446-2021-01-01&cm_mmc=Email_Newsletter-\\_-Developer_Ed%2BTech-\\_-WW_WW-\\_-SkillsNetwork-Courses-IBMDeveloperSkillsNetwork-DL0120EN-SkillsNetwork-20629446&cm_mmca1=000026UJ&cm_mmca2=10006555&cm_mmca3=M12345678&cvosrc=email.Newsletter.M12345678&cvo_campaign=000026UJ)<br>\n",
        "[https://msdn.microsoft.com/en-us/library/windows/desktop/dn424131(v=vs.85).aspx](https://msdn.microsoft.com/en-us/library/windows/desktop/dn424131\\(v=vs.85\\).aspx?utm_medium=Exinfluencer&utm_source=Exinfluencer&utm_content=000026UJ&utm_term=10006555&utm_id=NA-SkillsNetwork-Channel-SkillsNetworkCoursesIBMDeveloperSkillsNetworkDL0120ENSkillsNetwork20629446-2021-01-01&cm_mmc=Email_Newsletter-\\_-Developer_Ed%2BTech-\\_-WW_WW-\\_-SkillsNetwork-Courses-IBMDeveloperSkillsNetwork-DL0120EN-SkillsNetwork-20629446&cm_mmca1=000026UJ&cm_mmca2=10006555&cm_mmca3=M12345678&cvosrc=email.Newsletter.M12345678&cvo_campaign=000026UJ)<br>\n"
      ]
    },
    {
      "cell_type": "markdown",
      "metadata": {
        "id": "moqOmuPlSt1E"
      },
      "source": [
        "<hr>\n",
        "\n",
        "Copyright © 2018 [Cognitive Class](https://cocl.us/DX0108EN_CC). This notebook and its source code are released under the terms of the [MIT License](https://bigdatauniversity.com/mit-license?utm_medium=Exinfluencer&utm_source=Exinfluencer&utm_content=000026UJ&utm_term=10006555&utm_id=NA-SkillsNetwork-Channel-SkillsNetworkCoursesIBMDeveloperSkillsNetworkDL0120ENSkillsNetwork20629446-2021-01-01&cm_mmc=Email_Newsletter-\\_-Developer_Ed%2BTech-\\_-WW_WW-\\_-SkillsNetwork-Courses-IBMDeveloperSkillsNetwork-DL0120EN-SkillsNetwork-20629446&cm_mmca1=000026UJ&cm_mmca2=10006555&cm_mmca3=M12345678&cvosrc=email.Newsletter.M12345678&cvo_campaign=000026UJ).\n"
      ]
    }
  ],
  "metadata": {
    "kernelspec": {
      "display_name": "Python 3",
      "language": "python",
      "name": "python3"
    },
    "language_info": {
      "codemirror_mode": {
        "name": "ipython",
        "version": 3
      },
      "file_extension": ".py",
      "mimetype": "text/x-python",
      "name": "python",
      "nbconvert_exporter": "python",
      "pygments_lexer": "ipython3",
      "version": "3.8.0"
    },
    "colab": {
      "name": "ML0120EN-1.1-Review-TensorFlow-Hello-World (Week1) .ipynb",
      "provenance": []
    }
  },
  "nbformat": 4,
  "nbformat_minor": 0
}